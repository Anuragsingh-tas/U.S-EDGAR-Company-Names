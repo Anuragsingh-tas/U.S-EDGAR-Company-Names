{
 "cells": [
  {
   "cell_type": "code",
   "execution_count": 1,
   "metadata": {},
   "outputs": [],
   "source": [
    "from bs4 import BeautifulSoup\n",
    "import requests \n",
    "from urllib import request\n",
    "import os\n",
    "import pandas as pd"
   ]
  },
  {
   "cell_type": "code",
   "execution_count": 2,
   "metadata": {},
   "outputs": [],
   "source": [
    "#ciks = pd.read_csv(\"ciks.csv\")\n",
    "df = pd.read_csv(\"ciks.csv\")\n",
    "mylist = df['CIK'].tolist()# CIK is the column name\n",
    "S_CIK=df['CIK']"
   ]
  },
  {
   "cell_type": "code",
   "execution_count": 3,
   "metadata": {
    "scrolled": true
   },
   "outputs": [
    {
     "name": "stdout",
     "output_type": "stream",
     "text": [
      "Mercedes Benz Auto Receivables Trust 2012-1 CIK#: 0001557822 (see all company filings)\n",
      "Mercedes South 3-D Joint Venture CIK#: 0001598429 (see all company filings)\n",
      "Mercedes-Benz Auto Lease Trust 2012-A CIK#: 0001544670 (see all company filings)\n",
      "Mercedes-Benz Auto Lease Trust 2013-A CIK#: 0001574448 (see all company filings)\n",
      "Mercedes-Benz Auto Lease Trust 2013-B CIK#: 0001592290 (see all company filings)\n",
      "Mercedes-Benz Auto Lease Trust 2014-A CIK#: 0001604054 (see all company filings)\n",
      "Mercedes-Benz Auto Lease Trust 2015-A CIK#: 0001629789 (see all company filings)\n",
      "Mercedes-Benz Auto Lease Trust 2015-B CIK#: 0001653426 (see all company filings)\n",
      "Mercedes-Benz Auto Lease Trust 2016-A CIK#: 0001667546 (see all company filings)\n",
      "Mercedes-Benz Auto Lease Trust 2016-B CIK#: 0001684415 (see all company filings)\n",
      "Mercedes-Benz Auto Lease Trust 2017-A CIK#: 0001700323 (see all company filings)\n",
      "Mercedes-Benz Auto Lease Trust 2018-A CIK#: 0001723535 (see all company filings)\n",
      "Mercedes-Benz Auto Lease Trust 2018-B CIK#: 0001757056 (see all company filings)\n",
      "Mercedes-Benz Auto Lease Trust 2019-A CIK#: 0001763960 (see all company filings)\n",
      "Mercedes-Benz Auto Receivables Trust 2009-1 CIK#: 0001473111 (see all company filings)\n",
      "MERCEDES-BENZ AUTO RECEIVABLES TRUST 2010-1 CIK#: 0001489434 (see all company filings)\n",
      "MERCEDES-BENZ AUTO RECEIVABLES TRUST 2011-1 CIK#: 0001525502 (see all company filings)\n",
      "Mercedes-Benz Auto Receivables Trust 2013-1 CIK#: 0001582010 (see all company filings)\n",
      "Mercedes-Benz Auto Receivables Trust 2014-1 CIK#: 0001612226 (see all company filings)\n",
      "Mercedes-Benz Auto Receivables Trust 2015-1 CIK#: 0001646798 (see all company filings)\n",
      "Mercedes-Benz Auto Receivables Trust 2016-1 CIK#: 0001682524 (see all company filings)\n",
      "Mercedes-Benz Auto Receivables Trust 2018-1 CIK#: 0001733358 (see all company filings)\n",
      "Mercedes-Benz Auto Receivables Trust 2019-1 CIK#: 0001785844 (see all company filings)\n",
      "Mercedes-Benz Financial Services USA LLC CIK#: 0001540252 (see all company filings)\n",
      "                                                    0      cik\n",
      "0   Mercedes Benz Auto Receivables Trust 2012-1 CI...  1557822\n",
      "1   Mercedes South 3-D Joint Venture CIK#: 0001598...  1598429\n",
      "2   Mercedes-Benz Auto Lease Trust 2012-A CIK#: 00...  1544670\n",
      "3   Mercedes-Benz Auto Lease Trust 2013-A CIK#: 00...  1574448\n",
      "4   Mercedes-Benz Auto Lease Trust 2013-B CIK#: 00...  1592290\n",
      "5   Mercedes-Benz Auto Lease Trust 2014-A CIK#: 00...  1604054\n",
      "6   Mercedes-Benz Auto Lease Trust 2015-A CIK#: 00...  1629789\n",
      "7   Mercedes-Benz Auto Lease Trust 2015-B CIK#: 00...  1653426\n",
      "8   Mercedes-Benz Auto Lease Trust 2016-A CIK#: 00...  1667546\n",
      "9   Mercedes-Benz Auto Lease Trust 2016-B CIK#: 00...  1684415\n",
      "10  Mercedes-Benz Auto Lease Trust 2017-A CIK#: 00...  1700323\n",
      "11  Mercedes-Benz Auto Lease Trust 2018-A CIK#: 00...  1723535\n",
      "12  Mercedes-Benz Auto Lease Trust 2018-B CIK#: 00...  1757056\n",
      "13  Mercedes-Benz Auto Lease Trust 2019-A CIK#: 00...  1763960\n",
      "14  Mercedes-Benz Auto Receivables Trust 2009-1 CI...  1473111\n",
      "15  MERCEDES-BENZ AUTO RECEIVABLES TRUST 2010-1 CI...  1489434\n",
      "16  MERCEDES-BENZ AUTO RECEIVABLES TRUST 2011-1 CI...  1525502\n",
      "17  Mercedes-Benz Auto Receivables Trust 2013-1 CI...  1582010\n",
      "18  Mercedes-Benz Auto Receivables Trust 2014-1 CI...  1612226\n",
      "19  Mercedes-Benz Auto Receivables Trust 2015-1 CI...  1646798\n",
      "20  Mercedes-Benz Auto Receivables Trust 2016-1 CI...  1682524\n",
      "21  Mercedes-Benz Auto Receivables Trust 2018-1 CI...  1733358\n",
      "22  Mercedes-Benz Auto Receivables Trust 2019-1 CI...  1785844\n",
      "23  Mercedes-Benz Financial Services USA LLC CIK#:...  1540252\n"
     ]
    }
   ],
   "source": [
    "company =[]\n",
    "for item in mylist:\n",
    "    url=\"https://www.sec.gov/cgi-bin/browse-edgar?CIK=\" + str(item) +\"&owner=exclude&action=getcompany\"\n",
    "    r = request.urlopen(url)\n",
    "    bytecode = r.read()\n",
    "    htmlstr = bytecode.decode()\n",
    "    soup = BeautifulSoup(bytecode,features=\"lxml\")\n",
    "    t = soup.find('span',{'class':'companyName'})\n",
    "    company.append(t.text)\n",
    "    print(t.text)\n",
    "df=pd.DataFrame(company)\n",
    "df['cik']=mylist\n",
    "print(df)\n",
    "\n",
    "df.to_csv(\"Task_completed.csv\",index=False)\n"
   ]
  },
  {
   "cell_type": "code",
   "execution_count": null,
   "metadata": {},
   "outputs": [],
   "source": []
  }
 ],
 "metadata": {
  "kernelspec": {
   "display_name": "Python 3",
   "language": "python",
   "name": "python3"
  },
  "language_info": {
   "codemirror_mode": {
    "name": "ipython",
    "version": 3
   },
   "file_extension": ".py",
   "mimetype": "text/x-python",
   "name": "python",
   "nbconvert_exporter": "python",
   "pygments_lexer": "ipython3",
   "version": "3.7.3"
  }
 },
 "nbformat": 4,
 "nbformat_minor": 2
}
